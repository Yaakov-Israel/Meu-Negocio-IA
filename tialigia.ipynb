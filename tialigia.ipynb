{
  "nbformat": 4,
  "nbformat_minor": 0,
  "metadata": {
    "colab": {
      "provenance": [],
      "authorship_tag": "ABX9TyPUNeCc7rXHEnk06w9Gr+Db",
      "include_colab_link": true
    },
    "kernelspec": {
      "name": "python3",
      "display_name": "Python 3"
    },
    "language_info": {
      "name": "python"
    }
  },
  "cells": [
    {
      "cell_type": "markdown",
      "metadata": {
        "id": "view-in-github",
        "colab_type": "text"
      },
      "source": [
        "<a href=\"https://colab.research.google.com/github/Yaakov-Israel/Meu-Negocio-IA/blob/main/tialigia.ipynb\" target=\"_parent\"><img src=\"https://colab.research.google.com/assets/colab-badge.svg\" alt=\"Open In Colab\"/></a>"
      ]
    },
    {
      "cell_type": "code",
      "execution_count": 1,
      "metadata": {
        "colab": {
          "base_uri": "https://localhost:8080/"
        },
        "id": "ok7e5B8BRp9K",
        "outputId": "f734ee18-0984-42dd-fa67-18dbd4aa94c4"
      },
      "outputs": [
        {
          "output_type": "stream",
          "name": "stdout",
          "text": [
            "\u001b[2K     \u001b[90m━━━━━━━━━━━━━━━━━━━━━━━━━━━━━━━━━━━━━━━━\u001b[0m \u001b[32m44.3/44.3 kB\u001b[0m \u001b[31m1.5 MB/s\u001b[0m eta \u001b[36m0:00:00\u001b[0m\n",
            "\u001b[2K   \u001b[90m━━━━━━━━━━━━━━━━━━━━━━━━━━━━━━━━━━━━━━━━\u001b[0m \u001b[32m9.9/9.9 MB\u001b[0m \u001b[31m61.7 MB/s\u001b[0m eta \u001b[36m0:00:00\u001b[0m\n",
            "\u001b[2K   \u001b[90m━━━━━━━━━━━━━━━━━━━━━━━━━━━━━━━━━━━━━━━━\u001b[0m \u001b[32m6.9/6.9 MB\u001b[0m \u001b[31m72.7 MB/s\u001b[0m eta \u001b[36m0:00:00\u001b[0m\n",
            "\u001b[2K   \u001b[90m━━━━━━━━━━━━━━━━━━━━━━━━━━━━━━━━━━━━━━━━\u001b[0m \u001b[32m79.1/79.1 kB\u001b[0m \u001b[31m5.1 MB/s\u001b[0m eta \u001b[36m0:00:00\u001b[0m\n",
            "\u001b[?25h"
          ]
        }
      ],
      "source": [
        "!pip install streamlit -q"
      ]
    },
    {
      "cell_type": "code",
      "source": [
        "%%writefile app.py\n",
        "\n",
        "import streamlit as st\n",
        "\n",
        "# Título do nosso App, bem grandão e bonito!\n",
        "st.title(\"✨ Bem-vindo(a) ao App da Tia Lígia! ✨\")\n",
        "\n",
        "# Uma mensagem de boas-vindas da Tia Lígia\n",
        "st.write(\"Olá, aventureiro(a) do conhecimento! 👋\")\n",
        "st.write(\"Eu sou a Tia Lígia, sua Super-Professora!\")\n",
        "st.write(\"Estou muito feliz em ter você aqui para a gente aprender e se divertir juntos!\")\n",
        "\n",
        "# Um espaço para a gente colocar mais coisas depois\n",
        "st.subheader(\"Em breve, muitas aventuras por aqui!\")\n",
        "\n",
        "# Vamos colocar uma imagem fofa para alegrar?\n",
        "# (Você pode trocar o link por outra imagem que gostar depois!)\n",
        "st.image(\"https://www.streamlit.io/images/brand/streamlit-logo-secondary-colormark-darktext.png\", width=200)\n",
        "\n",
        "st.balloons() # Uma surpresinha divertida! 🎈🎈"
      ],
      "metadata": {
        "colab": {
          "base_uri": "https://localhost:8080/"
        },
        "id": "dptNZTT6zbku",
        "outputId": "7e903f04-98cd-4c39-9bf9-d9827f7dd8f9"
      },
      "execution_count": 2,
      "outputs": [
        {
          "output_type": "stream",
          "name": "stdout",
          "text": [
            "Writing app.py\n"
          ]
        }
      ]
    },
    {
      "cell_type": "code",
      "source": [
        "!pip install pyngrok -q"
      ],
      "metadata": {
        "id": "q9kyaRIIzhAi"
      },
      "execution_count": 3,
      "outputs": []
    },
    {
      "cell_type": "code",
      "source": [
        "!streamlit run app.py &>/background.log &  # Isso faz o app rodar quietinho no fundo\n",
        "from pyngrok import ngrok\n",
        "import time\n",
        "\n",
        "# Damos um tempinho para o Streamlit começar\n",
        "time.sleep(5)\n",
        "\n",
        "# Abrindo nosso túnel secreto para o app!\n",
        "# Se pedir um \"authtoken\", você pode criar uma conta grátis no site ngrok.com\n",
        "# e colocar seu token assim: ngrok.set_auth_token(\"SEU_TOKEN_AQUI\") ANTES da linha ngrok.connect()\n",
        "# Por enquanto, vamos tentar sem ele.\n",
        "try:\n",
        "    public_url = ngrok.connect(8501) # O Streamlit geralmente usa a porta 8501\n",
        "    print(\"----------------------------------------------------------------------------------\")\n",
        "    print(\" Oba! Seu app da Tia Lígia está no ar! Clique neste link mágico: \")\n",
        "    print(public_url)\n",
        "    print(\"----------------------------------------------------------------------------------\")\n",
        "except Exception as e:\n",
        "    print(f\"Oops! Algo deu errado com o ngrok: {e}\")\n",
        "    print(\"Pode ser que você precise de um 'authtoken' do site ngrok.com.\")\n",
        "    print(\"Ou, às vezes, o Colab já te dá um link direto! Fique de olho nas mensagens acima!\")"
      ],
      "metadata": {
        "colab": {
          "base_uri": "https://localhost:8080/"
        },
        "id": "ruav6edgzrkE",
        "outputId": "7e981a7d-376c-401f-e931-3a73a1c38e87"
      },
      "execution_count": 4,
      "outputs": [
        {
          "output_type": "stream",
          "name": "stdout",
          "text": []
        },
        {
          "output_type": "stream",
          "name": "stderr",
          "text": [
            "ERROR:pyngrok.process.ngrok:t=2025-05-22T02:24:59+0000 lvl=eror msg=\"failed to reconnect session\" obj=tunnels.session err=\"authentication failed: Usage of ngrok requires a verified account and authtoken.\\n\\nSign up for an account: https://dashboard.ngrok.com/signup\\nInstall your authtoken: https://dashboard.ngrok.com/get-started/your-authtoken\\r\\n\\r\\nERR_NGROK_4018\\r\\n\"\n",
            "ERROR:pyngrok.process.ngrok:t=2025-05-22T02:24:59+0000 lvl=eror msg=\"session closing\" obj=tunnels.session err=\"authentication failed: Usage of ngrok requires a verified account and authtoken.\\n\\nSign up for an account: https://dashboard.ngrok.com/signup\\nInstall your authtoken: https://dashboard.ngrok.com/get-started/your-authtoken\\r\\n\\r\\nERR_NGROK_4018\\r\\n\"\n",
            "ERROR:pyngrok.process.ngrok:t=2025-05-22T02:24:59+0000 lvl=eror msg=\"terminating with error\" obj=app err=\"authentication failed: Usage of ngrok requires a verified account and authtoken.\\n\\nSign up for an account: https://dashboard.ngrok.com/signup\\nInstall your authtoken: https://dashboard.ngrok.com/get-started/your-authtoken\\r\\n\\r\\nERR_NGROK_4018\\r\\n\"\n"
          ]
        },
        {
          "output_type": "stream",
          "name": "stdout",
          "text": [
            "Oops! Algo deu errado com o ngrok: The ngrok process errored on start: authentication failed: Usage of ngrok requires a verified account and authtoken.\\n\\nSign up for an account: https://dashboard.ngrok.com/signup\\nInstall your authtoken: https://dashboard.ngrok.com/get-started/your-authtoken\\r\\n\\r\\nERR_NGROK_4018\\r\\n.\n",
            "Pode ser que você precise de um 'authtoken' do site ngrok.com.\n",
            "Ou, às vezes, o Colab já te dá um link direto! Fique de olho nas mensagens acima!\n"
          ]
        }
      ]
    },
    {
      "cell_type": "code",
      "source": [
        "# --- Código Mágico para Ligar seu App com ngrok! ---\n",
        "\n",
        "# Primeiro, garantimos que o app Streamlit comece a rodar em segundo plano.\n",
        "# Ele vai usar o arquivo app.py que criamos antes!\n",
        "!streamlit run app.py &>/background.log &\n",
        "\n",
        "# Agora, chamamos nossos ajudantes mágicos\n",
        "from pyngrok import ngrok\n",
        "import os # Vamos usar para limpar qualquer configuração antiga do ngrok, só por segurança\n",
        "import time\n",
        "\n",
        "# Limpando configurações antigas do ngrok (só para garantir que tudo funcione bem)\n",
        "os.system(\"killall ngrok\") # Isso tenta fechar qualquer ngrok que já esteja rodando\n",
        "time.sleep(2) # Uma pausa para garantir que fechou\n",
        "\n",
        "# ⭐ Sua Chave Secreta do ngrok! ⭐\n",
        "# Eu já coloquei o número que você me passou aqui!\n",
        "NGROK_AUTH_TOKEN = \"2xQrBT6ewYqNlhhCYPD5YUFjGQV_71AXSBKKbTnj37awBP94A\"\n",
        "ngrok.set_auth_token(NGROK_AUTH_TOKEN)\n",
        "\n",
        "print(\"Preparando o portal mágico... Por favor, aguarde um pouquinho! 🪄✨\")\n",
        "# Uma pausa para o Streamlit acordar e o ngrok se preparar\n",
        "time.sleep(5)\n",
        "\n",
        "try:\n",
        "    # Criando o túnel secreto para a porta 8501, onde nosso app Streamlit mora!\n",
        "    public_url = ngrok.connect(8501)\n",
        "    print(\"----------------------------------------------------------------------------------\")\n",
        "    print(\"🎉 EBAAAAA! Conseguiiiiiimos! 🎉\")\n",
        "    print(\"Seu app da Tia Lígia está prontinho para ser visitado!\")\n",
        "    print(\"Clique neste link mágico aqui embaixo para ver sua criação:\")\n",
        "    print(public_url)\n",
        "    print(\"----------------------------------------------------------------------------------\")\n",
        "    print(\"Psst! Esse link funciona por um tempo. Se ele parar, é só rodar esta célula de novo, tá bom?\")\n",
        "\n",
        "except Exception as e:\n",
        "    print(f\"😥 Oh, céus! Parece que o ngrok não quis abrir o portal mágico ainda.\")\n",
        "    print(f\"O erro foi: {e}\")\n",
        "    print(\"Vamos tentar algumas coisinhas:\")\n",
        "    print(\"1. Verifique se o authtoken está certinho (parece que está, mas é bom conferir!).\")\n",
        "    print(\"2. Às vezes, o Colab precisa de um empurrãozinho. Tente ir em 'Ambiente de execução' no menu do Colab, depois em 'Reiniciar ambiente de execução' e rode todas as células desde o começo (instalar, criar o app.py e esta aqui).\")\n",
        "    print(\"Não desanime! A gente vai conseguir! 💪\")"
      ],
      "metadata": {
        "colab": {
          "base_uri": "https://localhost:8080/"
        },
        "id": "vTmXq_lj1z6f",
        "outputId": "56407064-5051-49a8-c6bd-424b12bf9795"
      },
      "execution_count": 5,
      "outputs": [
        {
          "output_type": "stream",
          "name": "stdout",
          "text": [
            "Preparando o portal mágico... Por favor, aguarde um pouquinho! 🪄✨\n",
            "----------------------------------------------------------------------------------\n",
            "🎉 EBAAAAA! Conseguiiiiiimos! 🎉\n",
            "Seu app da Tia Lígia está prontinho para ser visitado!\n",
            "Clique neste link mágico aqui embaixo para ver sua criação:\n",
            "NgrokTunnel: \"https://2d4b-34-59-209-216.ngrok-free.app\" -> \"http://localhost:8501\"\n",
            "----------------------------------------------------------------------------------\n",
            "Psst! Esse link funciona por um tempo. Se ele parar, é só rodar esta célula de novo, tá bom?\n"
          ]
        }
      ]
    },
    {
      "cell_type": "code",
      "source": [
        "%%writefile app.py\n",
        "\n",
        "import streamlit as st\n",
        "\n",
        "# Configurações da página (é bom colocar no começo)\n",
        "# Isso define o título que aparece na aba do navegador e um ícone!\n",
        "st.set_page_config(page_title=\"App da Tia Lígia\", page_icon=\"📚\", layout=\"wide\")\n",
        "\n",
        "# --- NOSSO MENU SECRETO NA LATERAL (SIDEBAR) ---\n",
        "# Usamos st.sidebar para dizer que tudo aqui vai para a lateral!\n",
        "st.sidebar.title(\"🎒 Cantinho da Descoberta 🎒\")\n",
        "st.sidebar.markdown(\"---\") # Uma linha para separar\n",
        "# Vamos colocar uma imagem fofa no nosso menu!\n",
        "# Você pode procurar o link de outra imagem na internet se quiser depois!\n",
        "st.sidebar.image(\"https://img.freepik.com/vetores-gratis/menina-bonita-crianca-feliz-dos-desenhos-animados-com-livro_701961-2227.jpg?t=st=1716345038~exp=1716348638~hmac=2e3924f57d1252306177a3c68e72222cd8f160a0e2437e0e84808894ab8db76e&w=740\", width=150)\n",
        "st.sidebar.markdown(\"---\") # Mais uma linha\n",
        "\n",
        "# Aqui criamos uma lista com as matérias que vão aparecer no menu\n",
        "lista_de_aventuras = [\n",
        "    \"🌟 Página Inicial\",\n",
        "    \"🔡 Português Divertido\",\n",
        "    \"🔢 Matemática Mágica\",\n",
        "    \"🌳 Mundo das Ciências\",\n",
        "    \"📜 Viagem pela História do Brasil\"\n",
        "]\n",
        "# E aqui o menu para escolher a aventura!\n",
        "escolha_da_crianca = st.sidebar.selectbox(\"O que vamos explorar hoje, meu bem?\", lista_de_aventuras)\n",
        "\n",
        "# --- CONTEÚDO QUE APARECE NA PÁGINA PRINCIPAL ---\n",
        "# O que vai aparecer aqui depende do que a criança escolheu no menu!\n",
        "\n",
        "if escolha_da_crianca == \"🌟 Página Inicial\":\n",
        "    st.title(\"✨ Bem-vindo(a) de volta ao App da Tia Lígia! ✨\")\n",
        "    st.subheader(\"Eu sou a Tia Lígia, sua Super-Professora, pronta para novas aventuras!\")\n",
        "    st.write(\"Explore o 'Cantinho da Descoberta' aqui do lado 👈 para escolher uma matéria e começar a diversão!\")\n",
        "    # Vamos usar colunas para deixar mais bonito!\n",
        "    col1, col2 = st.columns(2)\n",
        "    with col1:\n",
        "        st.image(\"https://img.freepik.com/vetores-gratis/professora-explicando-na-sala-de-aula-com-estudantes_23-2148490575.jpg?t=st=1716345250~exp=1716348850~hmac=a63c7903422502202a13d5375e9a2745dbb0b2f5c49cc8a348b67098ccb3391e&w=1060\", caption=\"Vamos aprender juntos!\")\n",
        "    with col2:\n",
        "        st.markdown(\"### O que você vai encontrar aqui?\")\n",
        "        st.markdown(\"\"\"\n",
        "        - Jogos e desafios de Português! 🔡\n",
        "        - Quebra-cabeças de Matemática! 🔢\n",
        "        - Descobertas incríveis em Ciências! 🌳\n",
        "        - Aventuras pela História do nosso Brasil! 📜\n",
        "        - E muito mais no futuro!\n",
        "        \"\"\")\n",
        "    st.balloons() # Balõezinhos para comemorar! 🎈\n",
        "\n",
        "elif escolha_da_crianca == \"🔡 Português Divertido\":\n",
        "    st.title(\"🔡 Aventura no Mundo das Palavras!\")\n",
        "    st.image(\"https://img.freepik.com/vetores-gratis/desenhos-animados-de-volta-ao-design-da-escola-com-material-escolar_23-2148588951.jpg?t=st=1716345436~exp=1716349036~hmac=b33a7d544254258679109396a1f848a7d5d29ffdbf6a18b262b019f7bc40505f&w=1060\", width=300)\n",
        "    st.write(\"Olá, pequeno(a) escritor(a)! Aqui no Português, vamos brincar com letras, descobrir palavras novas e criar histórias fantásticas!\")\n",
        "    st.info(\"Em breve: Jogo da Forca, Caça-Palavras e muito mais!\", icon=\"💡\")\n",
        "\n",
        "elif escolha_da_crianca == \"🔢 Matemática Mágica\":\n",
        "    st.title(\"🔢 Desafios Divertidos com Números!\")\n",
        "    st.image(\"https://img.freepik.com/vetores-gratis/personagens-de-desenhos-animados-de-conceito-de-educacao-matematica_23-2148500599.jpg?t=st=1716345481~exp=1716349081~hmac=31c3241a7d65f872e078497110fdc7bfae9cf512a8a83f76c6b4e5cb1c5d1675&w=1060\", width=300)\n",
        "    st.write(\"E aí, gênio(a) dos números? Prepare-se para contar, somar, diminuir e resolver mistérios super legais com a matemática!\")\n",
        "    st.info(\"Em breve: Jogo dos Blocos Lógicos, Desafios de Contagem e Tabuada divertida!\", icon=\"💡\")\n",
        "\n",
        "elif escolha_da_crianca == \"🌳 Mundo das Ciências\":\n",
        "    st.title(\"🌳 Explorando Nosso Mundo Incrível!\")\n",
        "    st.image(\"https://img.freepik.com/vetores-gratis/ilustracao-do-conceito-de-aula-de-ciencias_114360-19708.jpg?t=st=1716345518~exp=1716349118~hmac=1df1017dbf2549776a42d04a7614d62c32df3957dd790ab086192f0231531f60&w=1060\", width=300)\n",
        "    st.write(\"Olá, cientista mirim! Vamos investigar as plantas, os animais, o nosso corpo e todos os segredos da natureza e do universo!\")\n",
        "    st.info(\"Em breve: Experiências malucas (e seguras!), curiosidades sobre os dinossauros e muito mais!\", icon=\"💡\")\n",
        "\n",
        "elif escolha_da_crianca == \"📜 Viagem pela História do Brasil\":\n",
        "    st.title(\"📜 Uma Aventura pela História do Nosso Brasil!\")\n",
        "    st.image(\"https://img.freepik.com/vetores-gratis/mapa-do-brasil-em-estilo-simples-mapa-politico-do-pais-com-as-fronteiras-dos-estados-ilustracao-vetorial_159242-5883.jpg?t=st=1716345576~exp=1716349176~hmac=3e275369ba389a31e6322c50c127565076225626a8ddb1c4972ac991284c5b32&w=740\", width=300)\n",
        "    st.write(\"Prepare sua imaginação para uma viagem no tempo! Vamos conhecer os personagens, os lugares e as histórias que formaram o nosso país tão lindo!\")\n",
        "    st.info(\"Em breve: Linha do tempo interativa, quem foram os Bandeirantes e a chegada dos portugueses!\", icon=\"💡\")\n",
        "\n",
        "\n",
        "# Um rodapézinho charmoso no final da página principal\n",
        "st.markdown(\"---\")\n",
        "st.markdown(\"Criado com muito carinho pela Tia Lígia e por você, meu pequeno(a) grande programador(a)! 💖\")"
      ],
      "metadata": {
        "colab": {
          "base_uri": "https://localhost:8080/"
        },
        "id": "qOc-F-Nd2Ocu",
        "outputId": "4cb6dec3-957f-421b-b5ba-40fa966ef411"
      },
      "execution_count": 6,
      "outputs": [
        {
          "output_type": "stream",
          "name": "stdout",
          "text": [
            "Overwriting app.py\n"
          ]
        }
      ]
    },
    {
      "cell_type": "code",
      "source": [
        "%%writefile app.py\n",
        "\n",
        "import streamlit as st\n",
        "import random # Vamos usar para sortear as palavras do nosso jogo!\n",
        "\n",
        "# Configurações da página (é bom colocar no começo)\n",
        "st.set_page_config(page_title=\"App da Tia Lígia\", page_icon=\"📚\", layout=\"wide\")\n",
        "\n",
        "# --- NOSSO MENU SECRETO NA LATERAL (SIDEBAR) ---\n",
        "st.sidebar.title(\"🎒 Cantinho da Descoberta 🎒\")\n",
        "st.sidebar.markdown(\"---\")\n",
        "st.sidebar.image(\"https://img.freepik.com/vetores-gratis/menina-bonita-crianca-feliz-dos-desenhos-animados-com-livro_701961-2227.jpg?t=st=1716345038~exp=1716348638~hmac=2e3924f57d1252306177a3c68e72222cd8f160a0e2437e0e84808894ab8db76e&w=740\", width=150)\n",
        "st.sidebar.markdown(\"---\")\n",
        "\n",
        "lista_de_aventuras = [\n",
        "    \"🌟 Página Inicial\",\n",
        "    \"🔡 Português Divertido\",\n",
        "    \"🔢 Matemática Mágica\",\n",
        "    \"🌳 Mundo das Ciências\",\n",
        "    \"📜 Viagem pela História do Brasil\"\n",
        "]\n",
        "escolha_da_crianca = st.sidebar.selectbox(\"O que vamos explorar hoje, meu bem?\", lista_de_aventuras)\n",
        "\n",
        "# --- CONTEÚDO QUE APARECE NA PÁGINA PRINCIPAL ---\n",
        "\n",
        "if escolha_da_crianca == \"🌟 Página Inicial\":\n",
        "    st.title(\"✨ Bem-vindo(a) de volta ao App da Tia Lígia! ✨\")\n",
        "    st.subheader(\"Eu sou a Tia Lígia, sua Super-Professora, pronta para novas aventuras!\")\n",
        "    st.write(\"Explore o 'Cantinho da Descoberta' aqui do lado 👈 para escolher uma matéria e começar a diversão!\")\n",
        "    col1, col2 = st.columns(2)\n",
        "    with col1:\n",
        "        st.image(\"https://img.freepik.com/vetores-gratis/professora-explicando-na-sala-de-aula-com-estudantes_23-2148490575.jpg?t=st=1716345250~exp=1716348850~hmac=a63c7903422502202a13d5375e9a2745dbb0b2f5c49cc8a348b67098ccb3391e&w=1060\", caption=\"Vamos aprender juntos!\")\n",
        "    with col2:\n",
        "        st.markdown(\"### O que você vai encontrar aqui?\")\n",
        "        st.markdown(\"\"\"\n",
        "        - Jogos e desafios de Português! 🔡\n",
        "        - Quebra-cabeças de Matemática! 🔢\n",
        "        - Descobertas incríveis em Ciências! 🌳\n",
        "        - Aventuras pela História do nosso Brasil! 📜\n",
        "        - E muito mais no futuro!\n",
        "        \"\"\")\n",
        "    st.balloons()\n",
        "\n",
        "elif escolha_da_crianca == \"🔡 Português Divertido\":\n",
        "    st.title(\"🔡 Aventura no Mundo das Palavras!\")\n",
        "    st.image(\"https://img.freepik.com/vetores-gratis/desenhos-animados-de-volta-ao-design-da-escola-com-material-escolar_23-2148588951.jpg?t=st=1716345436~exp=1716349036~hmac=b33a7d544254258679109396a1f848a7d5d29ffdbf6a18b262b019f7bc40505f&w=1060\", width=300)\n",
        "    st.write(\"Olá, pequeno(a) escritor(a)! Vamos brincar com letras e palavras!\")\n",
        "    st.markdown(\"---\") # Uma linha para separar\n",
        "\n",
        "    # NOSSO JOGO NOVO COMEÇA AQUI! 👇\n",
        "    st.subheader(\"🎉 Jogo: Descubra a Letra Perdida! 🎉\")\n",
        "\n",
        "    # Essas são as palavras que o jogo pode sortear\n",
        "    # Cada palavra tem a parte que falta, a letra certa, as opções de letras e a palavra completa\n",
        "    palavras_do_jogo = {\n",
        "        \"CA_A\": {\"letra_certa\": \"S\", \"opcoes\": [\"S\", \"P\", \"L\"], \"palavra_completa\": \"CASA\"},\n",
        "        \"GA_O\": {\"letra_certa\": \"T\", \"opcoes\": [\"M\", \"T\", \"R\"], \"palavra_completa\": \"GATO\"},\n",
        "        \"BO_A\": {\"letra_certa\": \"L\", \"opcoes\": [\"N\", \"P\", \"L\"], \"palavra_completa\": \"BOLA\"},\n",
        "        \"MA_Ā\": {\"letra_certa\": \"Ç\", \"opcoes\": [\"S\", \"X\", \"Ç\"], \"palavra_completa\": \"MAÇÃ\"}, # Atenção ao Ç\n",
        "        \"LU_A\": {\"letra_certa\": \"V\", \"opcoes\": [\"B\", \"F\", \"V\"], \"palavra_completa\": \"LUVA\"}\n",
        "    }\n",
        "\n",
        "    # \"st.session_state\" é como uma caixinha mágica onde o Streamlit guarda coisas para lembrar depois,\n",
        "    # mesmo que a gente clique em um botão e a página recarregue!\n",
        "    # Vamos usá-lo para guardar qual palavra estamos jogando agora.\n",
        "\n",
        "    # Se for a primeira vez que a gente entra no jogo ou se a gente pediu uma nova palavra:\n",
        "    if 'palavra_atual_portugues' not in st.session_state or st.session_state.get('jogo_portugues_concluido', False):\n",
        "        palavra_escolhida = random.choice(list(palavras_do_jogo.keys()))\n",
        "        st.session_state.palavra_atual_portugues = palavra_escolhida\n",
        "        st.session_state.detalhes_palavra_portugues = palavras_do_jogo[palavra_escolhida]\n",
        "        st.session_state.jogo_portugues_concluido = False # Marca que o jogo atual não foi concluído\n",
        "        st.session_state.mensagem_portugues = \"\" # Limpa mensagens antigas\n",
        "\n",
        "    # Mostra a palavra com a letra faltando\n",
        "    st.markdown(f\"### Hmm... qual letra está faltando em: `{st.session_state.palavra_atual_portugues}` ?\")\n",
        "\n",
        "    # Detalhes da palavra atual\n",
        "    detalhes = st.session_state.detalhes_palavra_portugues\n",
        "    opcoes = detalhes[\"opcoes\"]\n",
        "    letra_correta = detalhes[\"letra_certa\"]\n",
        "    palavra_completa = detalhes[\"palavra_completa\"]\n",
        "\n",
        "    # Criar botões para as opções de letras, lado a lado!\n",
        "    cols = st.columns(len(opcoes))\n",
        "    for i, opcao_letra in enumerate(opcoes):\n",
        "        # Usamos uma chave única para cada botão\n",
        "        if cols[i].button(opcao_letra, key=f\"port_{st.session_state.palavra_atual_portugues}_{opcao_letra}\"):\n",
        "            if opcao_letra == letra_correta:\n",
        "                st.session_state.mensagem_portugues = f\"🎉 ISSO AÍ! Você acertou! A palavra é **{palavra_completa}**! 🎉\"\n",
        "                st.session_state.jogo_portugues_concluido = True # Marca que acertou!\n",
        "                st.balloons() # Solta balões!\n",
        "            else:\n",
        "                st.session_state.mensagem_portugues = f\"😥 Oh, não... A letra '{opcao_letra}' não é a certa. Tente de novo!\"\n",
        "            st.experimental_rerun() # Pede para a página recarregar e mostrar a mensagem\n",
        "\n",
        "    # Mostrar a mensagem de acerto ou erro\n",
        "    if st.session_state.get('mensagem_portugues'): # .get() é mais seguro caso a chave não exista\n",
        "        if st.session_state.jogo_portugues_concluido:\n",
        "            st.success(st.session_state.mensagem_portugues)\n",
        "            # Botão para jogar de novo\n",
        "            if st.button(\"Quero outra palavra!\", key=\"port_nova_palavra\"):\n",
        "                # Limpamos o estado para sortear uma nova palavra na próxima vez que a página carregar\n",
        "                st.session_state.jogo_portugues_concluido = True # Força a pegar uma nova palavra\n",
        "                st.experimental_rerun()\n",
        "        else:\n",
        "            st.error(st.session_state.mensagem_portugues)\n",
        "    # NOSSO JOGO TERMINA AQUI! 👆\n",
        "    st.markdown(\"---\")\n",
        "\n",
        "elif escolha_da_crianca == \"🔢 Matemática Mágica\":\n",
        "    st.title(\"🔢 Desafios Divertidos com Números!\")\n",
        "    st.image(\"https://img.freepik.com/vetores-gratis/personagens-de-desenhos-animados-de-conceito-de-educacao-matematica_23-2148500599.jpg?t=st=1716345481~exp=1716349081~hmac=31c3241a7d65f872e078497110fdc7bfae9cf512a8a83f76c6b4e5cb1c5d1675&w=1060\", width=300)\n",
        "    st.write(\"E aí, gênio(a) dos números? Prepare-se para contar, somar, diminuir e resolver mistérios super legais com a matemática!\")\n",
        "    st.info(\"Em breve: Jogo dos Blocos Lógicos, Desafios de Contagem e Tabuada divertida!\", icon=\"💡\")\n",
        "\n",
        "elif escolha_da_crianca == \"🌳 Mundo das Ciências\":\n",
        "    st.title(\"🌳 Explorando Nosso Mundo Incrível!\")\n",
        "    st.image(\"https://img.freepik.com/vetores-gratis/ilustracao-do-conceito-de-aula-de-ciencias_114360-19708.jpg?t=st=1716345518~exp=1716349118~hmac=1df1017dbf2549776a42d04a7614d62c32df3957dd790ab086192f0231531f60&w=1060\", width=300)\n",
        "    st.write(\"Olá, cientista mirim! Vamos investigar as plantas, os animais, o nosso corpo e todos os segredos da natureza e do universo!\")\n",
        "    st.info(\"Em breve: Experiências malucas (e seguras!), curiosidades sobre os dinossauros e muito mais!\", icon=\"💡\")\n",
        "\n",
        "elif escolha_da_crianca == \"📜 Viagem pela História do Brasil\":\n",
        "    st.title(\"📜 Uma Aventura pela História do Nosso Brasil!\")\n",
        "    st.image(\"https://img.freepik.com/vetores-gratis/mapa-do-brasil-em-estilo-simples-mapa-politico-do-pais-com-as-fronteiras-dos-estados-ilustracao-vetorial_159242-5883.jpg?t=st=1716345576~exp=1716349176~hmac=3e275369ba389a31e6322c50c127565076225626a8ddb1c4972ac991284c5b32&w=740\", width=300)\n",
        "    st.write(\"Prepare sua imaginação para uma viagem no tempo! Vamos conhecer os personagens, os lugares e as histórias que formaram o nosso país tão lindo!\")\n",
        "    st.info(\"Em breve: Linha do tempo interativa, quem foram os Bandeirantes e a chegada dos portugueses!\", icon=\"💡\")\n",
        "\n",
        "# Um rodapézinho charmoso no final da página principal\n",
        "st.markdown(\"---\")\n",
        "st.markdown(\"Criado com muito carinho pela Tia Lígia e por você, meu pequeno(a) grande programador(a)! 💖\")"
      ],
      "metadata": {
        "colab": {
          "base_uri": "https://localhost:8080/"
        },
        "id": "WDKU49Pp27SN",
        "outputId": "64d62f21-80ba-42cc-c69c-e4b09ab144de"
      },
      "execution_count": 7,
      "outputs": [
        {
          "output_type": "stream",
          "name": "stdout",
          "text": [
            "Overwriting app.py\n"
          ]
        }
      ]
    }
  ]
}